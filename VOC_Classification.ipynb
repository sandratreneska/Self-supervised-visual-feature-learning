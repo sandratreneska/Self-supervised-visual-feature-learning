{
  "nbformat": 4,
  "nbformat_minor": 0,
  "metadata": {
    "colab": {
      "name": "VOC-Classification.ipynb",
      "provenance": [],
      "collapsed_sections": [],
      "include_colab_link": true
    },
    "kernelspec": {
      "display_name": "Python 3",
      "name": "python3"
    },
    "language_info": {
      "name": "python"
    }
  },
  "cells": [
    {
      "cell_type": "markdown",
      "metadata": {
        "id": "view-in-github",
        "colab_type": "text"
      },
      "source": [
        "<a href=\"https://colab.research.google.com/github/sandratreneska/Self-supervised-visual-feature-learning/blob/main/VOC_Classification.ipynb\" target=\"_parent\"><img src=\"https://colab.research.google.com/assets/colab-badge.svg\" alt=\"Open In Colab\"/></a>"
      ]
    },
    {
      "cell_type": "code",
      "metadata": {
        "colab": {
          "base_uri": "https://localhost:8080/"
        },
        "id": "oPI1pudjmjh5",
        "outputId": "742ea721-4877-414d-dd28-6a40752d9161"
      },
      "source": [
        "!pip install scikit-multilearn"
      ],
      "execution_count": null,
      "outputs": [
        {
          "output_type": "stream",
          "name": "stdout",
          "text": [
            "Collecting scikit-multilearn\n",
            "  Downloading scikit_multilearn-0.2.0-py3-none-any.whl (89 kB)\n",
            "\u001b[?25l\r\u001b[K     |███▊                            | 10 kB 17.5 MB/s eta 0:00:01\r\u001b[K     |███████▍                        | 20 kB 11.1 MB/s eta 0:00:01\r\u001b[K     |███████████                     | 30 kB 13.5 MB/s eta 0:00:01\r\u001b[K     |██████████████▊                 | 40 kB 15.7 MB/s eta 0:00:01\r\u001b[K     |██████████████████▍             | 51 kB 17.5 MB/s eta 0:00:01\r\u001b[K     |██████████████████████          | 61 kB 18.6 MB/s eta 0:00:01\r\u001b[K     |█████████████████████████▊      | 71 kB 19.6 MB/s eta 0:00:01\r\u001b[K     |█████████████████████████████▍  | 81 kB 20.2 MB/s eta 0:00:01\r\u001b[K     |████████████████████████████████| 89 kB 6.5 MB/s \n",
            "\u001b[?25hInstalling collected packages: scikit-multilearn\n",
            "Successfully installed scikit-multilearn-0.2.0\n"
          ]
        }
      ]
    },
    {
      "cell_type": "code",
      "metadata": {
        "id": "LcegE3hGaffx"
      },
      "source": [
        "import os\n",
        "from tensorflow import keras\n",
        "import tensorflow as tf\n",
        "import cv2\n",
        "import math\n",
        "import pickle\n",
        "from keras import utils\n",
        "from keras.initializers import RandomNormal\n",
        "from keras.models import Model\n",
        "from keras.models import Input\n",
        "from keras.layers import Conv2D\n",
        "from keras.layers import Conv2DTranspose\n",
        "from keras.layers import Activation\n",
        "from keras.layers import Concatenate\n",
        "from keras.layers import Dropout, Flatten, Dense\n",
        "from keras.layers import BatchNormalization\n",
        "from keras.layers import LeakyReLU\n",
        "from keras.callbacks import EarlyStopping, ModelCheckpoint\n",
        "import numpy as np\n",
        "import pandas as pd\n",
        "import matplotlib.pyplot as plt\n",
        "import xml.etree.ElementTree as ET\n",
        "from sklearn import preprocessing\n",
        "from skimage.color import rgb2lab\n",
        "from keras import backend as K\n",
        "from sklearn.metrics import ConfusionMatrixDisplay\n",
        "from sklearn.metrics import multilabel_confusion_matrix\n",
        "import matplotlib.pyplot as plt\n",
        "from sklearn.metrics import classification_report\n",
        "from skmultilearn.model_selection import iterative_train_test_split\n",
        "from skmultilearn.model_selection import IterativeStratification"
      ],
      "execution_count": null,
      "outputs": []
    },
    {
      "cell_type": "code",
      "metadata": {
        "colab": {
          "base_uri": "https://localhost:8080/"
        },
        "id": "kqYOeaFbGANq",
        "outputId": "6bd6466e-6e02-4a79-d574-f6e939bc5b88"
      },
      "source": [
        "# Mount drive\n",
        "from google.colab import drive\n",
        "drive.mount('/content/drive')"
      ],
      "execution_count": null,
      "outputs": [
        {
          "output_type": "stream",
          "name": "stdout",
          "text": [
            "Mounted at /content/drive\n"
          ]
        }
      ]
    },
    {
      "cell_type": "code",
      "metadata": {
        "colab": {
          "base_uri": "https://localhost:8080/"
        },
        "id": "-ycyyIg8MkCd",
        "outputId": "a664948d-ab36-4841-d78d-927d08755396"
      },
      "source": [
        "# Check if GPU is connected\n",
        "device_name = tf.test.gpu_device_name()\n",
        "if device_name != '/device:GPU:0':\n",
        "  print('GPU device not found')\n",
        "print('Found GPU at: {}'.format(device_name))\n",
        "\n",
        "print(\"Num GPUs Available: \", len(tf.config.experimental.list_physical_devices('GPU')))"
      ],
      "execution_count": null,
      "outputs": [
        {
          "output_type": "stream",
          "name": "stdout",
          "text": [
            "Found GPU at: /device:GPU:0\n",
            "Num GPUs Available:  1\n"
          ]
        }
      ]
    },
    {
      "cell_type": "code",
      "metadata": {
        "id": "JsFaWzuVdel-"
      },
      "source": [
        "# Directories and parameters\n",
        "DIR = '/content/drive/My Drive/Self-supervised-VOC/'\n",
        "directory_annotations = DIR + 'VOC2012/Annotations/'\n",
        "directory_images = DIR + 'VOC2012/JPEGImages/'\n",
        "saved_weights_path = DIR + 'SavedWeights/'\n",
        "saved_models_path = DIR + 'SavedModels/'\n",
        "model_name = 'scratch-class-coco-balanced' # change\n",
        "GEN_PATH = DIR + 'PretrainedGenerator/pix2pixCOCO.h5' # change\n",
        "IMG_WIDTH = 256\n",
        "IMG_HEIGHT = 256\n",
        "BATCH_SIZE = 32\n",
        "LEARNING_RATE_1 = 3e-4\n",
        "LEARNING_RATE_2 = 5e-5 # 3e-4 change\n",
        "EPOCHS = 10 # 20  change\n",
        "NUM_CLASSES = 20"
      ],
      "execution_count": null,
      "outputs": []
    },
    {
      "cell_type": "code",
      "metadata": {
        "id": "soDfLeq5aznl"
      },
      "source": [
        "# Save image names\n",
        "filenames = []\n",
        "i = 0\n",
        "for xml_file in os.listdir(directory_annotations):\n",
        "    if os.path.isfile(directory_annotations + xml_file):\n",
        "      imgname = xml_file.strip('.xml')\n",
        "      #print(imgname)\n",
        "      filenames.append(imgname)\n",
        "      print(i)\n",
        "      i = i + 1\n",
        "\n",
        "print(filenames)"
      ],
      "execution_count": null,
      "outputs": []
    },
    {
      "cell_type": "code",
      "metadata": {
        "colab": {
          "base_uri": "https://localhost:8080/"
        },
        "id": "BsmzZg1MmQPA",
        "outputId": "43e124a0-df7b-4159-a0db-46d3a7d11888"
      },
      "source": [
        "# Encode the labels\n",
        "labelnames = preprocessing.LabelEncoder()\n",
        "labelnames.fit([\"aeroplane\", \"bicycle\", \"bird\", \"boat\", \"bottle\", \"bus\", \"car\",\n",
        "                \"cat\", \"chair\", \"cow\", \"diningtable\", \"dog\", \"horse\", \"motorbike\",\n",
        "                \"person\", \"pottedplant\", \"sheep\", \"sofa\", \"train\", \"tvmonitor\"])"
      ],
      "execution_count": null,
      "outputs": [
        {
          "output_type": "execute_result",
          "data": {
            "text/plain": [
              "LabelEncoder()"
            ]
          },
          "metadata": {},
          "execution_count": 12
        }
      ]
    },
    {
      "cell_type": "code",
      "metadata": {
        "id": "picAlM_djQ8k"
      },
      "source": [
        "# Return the image and its label, from a given filename\n",
        "def generate_from_xml(filename):\n",
        "  label = np.zeros((NUM_CLASSES), dtype = 'float32')\n",
        "  tree = ET.parse(os.path.join(directory_annotations, filename + \".xml\"))\n",
        "  #raw_image = cv2.imread(os.path.join(directory_images, filename + \".jpg\")) # read image\n",
        "  raw_image = tf.keras.preprocessing.image.load_img(os.path.join(directory_images, filename + \".jpg\"), color_mode='rgb', target_size= (IMG_HEIGHT,IMG_WIDTH))\n",
        "  res_img = np.array(raw_image, dtype=np.float32)\n",
        "  #res_img = cv2.resize(raw_image, (IMG_WIDTH,IMG_HEIGHT)) # resize image\n",
        "\n",
        "  # Preprocess\n",
        "  res_img = res_img / 255. # to srgb [0, 1]\n",
        "  lab_img = rgb2lab(res_img)  # convert from srgb to lab\n",
        "  gray_lab = lab_img[:, :, 0] / 50. - 1.  # grayscale layer, between [-1, 1]\n",
        "  color_lab = lab_img[:, :, 1:] / 128.  # green-red and blue-yellow layers, normalize between [-1, 1]\n",
        "  img = np.zeros((IMG_WIDTH, IMG_HEIGHT, 3))  # zeroes matrix\n",
        "  img[:, :, 0] = gray_lab  # grayscale, change with only grayscale\n",
        "  img[:, :, 1:] = color_lab  # original two layers\n",
        "\n",
        "  gray_lab = gray_lab.reshape(gray_lab.shape + (1,)) # convert from (256,256) to (256,256,1)\n",
        "\n",
        "  # Find the labels ex. [1 0 0 1 ...] multiclass\n",
        "  for elems in tree.iter():\n",
        "    if elems.tag == \"object\":\n",
        "      name = elems.find(\"name\").text\n",
        "      labelnr = labelnames.transform([name])[0]\n",
        "      label[labelnr] = 1\n",
        "      \n",
        "  return gray_lab, label"
      ],
      "execution_count": null,
      "outputs": []
    },
    {
      "cell_type": "code",
      "metadata": {
        "id": "WVRH76k8CC8B"
      },
      "source": [
        "def iterative_train_test_split(X, y, train_size):\n",
        "    \"\"\"Custom iterative train test split which\n",
        "    'maintains balanced representation with respect\n",
        "    to order-th label combinations.'\n",
        "    \"\"\"\n",
        "    stratifier = IterativeStratification(\n",
        "        n_splits=2, order=1, sample_distribution_per_fold=[1.0-train_size, train_size, ])\n",
        "    train_indices, test_indices = next(stratifier.split(X, y))\n",
        "    X_train, y_train = X[train_indices], y[train_indices]\n",
        "    X_test, y_test = X[test_indices], y[test_indices]\n",
        "    return X_train, X_test, y_train, y_test"
      ],
      "execution_count": null,
      "outputs": []
    },
    {
      "cell_type": "code",
      "metadata": {
        "id": "jfqdV_ajeGjH"
      },
      "source": [
        "# Indexes for splitting the dataset into train, val, test\n",
        "\n",
        "'''\n",
        "filecount = len(filenames)\n",
        "indexes = []\n",
        "labels = []\n",
        "for index in range(filecount):\n",
        "     indexes.append(index)\n",
        "\n",
        "for filename in filenames:\n",
        "    _, label = generate_from_xml(filename)\n",
        "    labels.append(label)\n",
        "'''"
      ],
      "execution_count": null,
      "outputs": []
    },
    {
      "cell_type": "code",
      "metadata": {
        "id": "-dSNx2DVCJNs"
      },
      "source": [
        "'''\n",
        "indexes = np.array(indexes)\n",
        "labels = np.array(labels)\n",
        "training_indexes, X_valtest, y_train, y_valtest = iterative_train_test_split(indexes, labels, train_size = 0.7)\n",
        "validation_indexes, testing_indexes, y_val, y_test = iterative_train_test_split(X_valtest, y_valtest, train_size = 0.66)\n",
        "'''"
      ],
      "execution_count": null,
      "outputs": []
    },
    {
      "cell_type": "code",
      "metadata": {
        "id": "yrZj8rvdCQPc"
      },
      "source": [
        "'''\n",
        "print(len(training_indexes))\n",
        "print(len(y_train))\n",
        "print(len(testing_indexes))\n",
        "print(len(y_test))\n",
        "print(training_indexes[3100:3150])\n",
        "print(y_train[3000:3010])\n",
        "'''"
      ],
      "execution_count": null,
      "outputs": []
    },
    {
      "cell_type": "code",
      "metadata": {
        "id": "Or2wUXGV3tzy"
      },
      "source": [
        "'''\n",
        "num_train_samples = len(training_indexes)\n",
        "num_val_samples = len(validation_indexes)\n",
        "num_test_samples = len(testing_indexes)\n",
        "\n",
        "print(\"Num. training images\", num_train_samples)\n",
        "print(\"Num. val images\", num_val_samples)\n",
        "print(\"Num. test images\", num_test_samples)\n",
        "'''"
      ],
      "execution_count": null,
      "outputs": []
    },
    {
      "cell_type": "code",
      "metadata": {
        "id": "0UXk6vImxTj9"
      },
      "source": [
        "# Save train, val, test index splits\n",
        "'''\n",
        "np.savetxt(DIR + 'VOC2012/Classification_indexes/class_train_indexes.txt', training_indexes, fmt='%d')\n",
        "np.savetxt(DIR + 'VOC2012/Classification_indexes/class_val_indexes.txt', validation_indexes, fmt='%d')\n",
        "np.savetxt(DIR + 'VOC2012/Classification_indexes/class_test_indexes.txt', testing_indexes, fmt='%d')\n",
        "'''"
      ],
      "execution_count": null,
      "outputs": []
    },
    {
      "cell_type": "code",
      "metadata": {
        "id": "xbd-TDzFxfLM"
      },
      "source": [
        "# Load train, val, test index splits\n",
        "training_indexes = np.loadtxt(DIR + 'VOC2012/Classification_indexes/class_train_indexes.txt', dtype=int)\n",
        "validation_indexes = np.loadtxt(DIR + 'VOC2012/Classification_indexes/class_val_indexes.txt', dtype=int)\n",
        "testing_indexes = np.loadtxt(DIR + 'VOC2012/Classification_indexes/class_test_indexes.txt', dtype=int)"
      ],
      "execution_count": null,
      "outputs": []
    },
    {
      "cell_type": "code",
      "metadata": {
        "id": "8I1yfKGKagRR"
      },
      "source": [
        "# Example\n",
        "img, label = generate_from_xml('2007_000063')\n",
        "#print(img)"
      ],
      "execution_count": null,
      "outputs": []
    },
    {
      "cell_type": "code",
      "metadata": {
        "id": "voi8TmsXfMJv"
      },
      "source": [
        "class DataGenerator(utils.all_utils.Sequence):\n",
        "  \n",
        "\n",
        "  def __init__(self, list_IDs, datafiles, batch_size = BATCH_SIZE, n_classes = NUM_CLASSES, shuffle = True):\n",
        "    self.batch_size = batch_size\n",
        "    self.datafiles = datafiles\n",
        "    self.list_IDs = list_IDs\n",
        "    self.n_classes = n_classes\n",
        "    self.shuffle = shuffle\n",
        "    self.on_epoch_end()\n",
        "\n",
        "  # After each epoch, shuffle the images if true\n",
        "  def on_epoch_end(self):\n",
        "    self.indexes = np.arange(len(self.list_IDs))\n",
        "    if self.shuffle == True:\n",
        "      np.random.shuffle(self.indexes)\n",
        "\n",
        "  # Generate images and labels for a batch\n",
        "  def __data_generation(self, list_IDs_temp):\n",
        "\n",
        "    # Initialization\n",
        "    X = np.empty((self.batch_size, IMG_WIDTH, IMG_HEIGHT, 1))\n",
        "    y = np.empty((self.batch_size, NUM_CLASSES))\n",
        "\n",
        "    # For every image in the batch\n",
        "    for datactr in range (self.batch_size):\n",
        "      newimg, newlabel = generate_from_xml(self.datafiles[list_IDs_temp[datactr]])\n",
        "\n",
        "      y[datactr] = newlabel\n",
        "    \n",
        "      X[datactr] = newimg\n",
        "\n",
        "    return X, y\n",
        "\n",
        "  # Number of batches per epoch\n",
        "  def __len__(self):\n",
        "    return int(np.floor(len(self.list_IDs) / self.batch_size))\n",
        "\n",
        "\n",
        "  def __getitem__(self, index):\n",
        "  # Generate indexes of the batch\n",
        "    newindexes = self.indexes[index*self.batch_size:(index+1)*self.batch_size]\n",
        "\n",
        "  # Find list of IDs\n",
        "    list_IDs_temp = [self.list_IDs[k] for k in newindexes]\n",
        "\n",
        "  # Generate data\n",
        "    X, y = self.__data_generation(list_IDs_temp)\n",
        "\n",
        "    return X, y"
      ],
      "execution_count": null,
      "outputs": []
    },
    {
      "cell_type": "code",
      "metadata": {
        "id": "Mf7YepegfOyn"
      },
      "source": [
        "training_generator = DataGenerator(training_indexes, filenames)\n",
        "val_generator = DataGenerator(validation_indexes, filenames)"
      ],
      "execution_count": null,
      "outputs": []
    },
    {
      "cell_type": "code",
      "metadata": {
        "id": "V9OzEuWyXqmd"
      },
      "source": [
        "# define an encoder block\n",
        "def define_encoder_block(layer_in, n_filters, batchnorm=True):\n",
        "    # weight initialization\n",
        "    init = RandomNormal(stddev=0.02)\n",
        "    # add downsampling layer\n",
        "    g = Conv2D(n_filters, (4, 4), strides=(2, 2), padding='same', kernel_initializer=init)(layer_in)\n",
        "    # conditionally add batch normalization\n",
        "    if batchnorm:\n",
        "        g = BatchNormalization()(g, training=True)\n",
        "    # leaky relu activation\n",
        "    g = LeakyReLU(alpha=0.2)(g)\n",
        "    return g"
      ],
      "execution_count": null,
      "outputs": []
    },
    {
      "cell_type": "code",
      "metadata": {
        "id": "-_tS_kiZXrWo"
      },
      "source": [
        "# define the classification model\n",
        "def define_model(image_shape=(IMG_WIDTH, IMG_HEIGHT, 1)): # change channels to one\n",
        "    # weight initialization\n",
        "    init = RandomNormal(stddev=0.02)\n",
        "    # image input\n",
        "    in_image = Input(shape=image_shape)\n",
        "    # encoder model: C64-C128-C256-C512-C512-C512-C512-C512\n",
        "    e1 = define_encoder_block(in_image, 64, batchnorm=False)\n",
        "    e2 = define_encoder_block(e1, 128)\n",
        "    e3 = define_encoder_block(e2, 256)\n",
        "    e4 = define_encoder_block(e3, 512)\n",
        "    e5 = define_encoder_block(e4, 512)\n",
        "    e6 = define_encoder_block(e5, 512)\n",
        "    e7 = define_encoder_block(e6, 512)\n",
        "    # bottleneck, no batch norm and relu\n",
        "    b = Conv2D(512, (4, 4), strides=(2, 2), padding='same', kernel_initializer=init)(e7)\n",
        "    b = Activation('relu')(b)\n",
        "    x = Flatten()(b)  # Flatten dimensions for use in FC layers\n",
        "    x = Dense(4096, activation='relu')(x)\n",
        "    x = Dropout(0.5)(x)\n",
        "    x = Dense(4096, activation='relu')(x)\n",
        "    x = Dropout(0.5)(x)\n",
        "\n",
        "    out_image = Dense(NUM_CLASSES, activation='sigmoid')(x)\n",
        "    classification_model = keras.Model(inputs=in_image, outputs=out_image)\n",
        "\n",
        "    return classification_model"
      ],
      "execution_count": null,
      "outputs": []
    },
    {
      "cell_type": "code",
      "metadata": {
        "id": "orih-O7Dpn-2"
      },
      "source": [
        "def define_model_pretrained():\n",
        "\n",
        "  # load pre-trained generator\n",
        "  g_model = keras.models.load_model(GEN_PATH)\n",
        "  # change freezed or not\n",
        "  #g_model.trainable = False\n",
        "\n",
        "  # get the encoder\n",
        "  bottleneck_layer = 'activation'\n",
        "  encoder = keras.Model(inputs=g_model.input, outputs=g_model.get_layer(bottleneck_layer).output)\n",
        "  print(encoder.summary())\n",
        "\n",
        "  # adding a classifier like VGG and Alexnet\n",
        "  x = encoder.output\n",
        "  x = Flatten()(x)  # Flatten dimensions for use in FC layers\n",
        "  x = Dense(4096, activation='relu')(x)\n",
        "  x = Dropout(0.5)(x)\n",
        "  x = Dense(4096, activation='relu')(x)\n",
        "  x = Dropout(0.5)(x)\n",
        "\n",
        "  output = Dense(20, activation='sigmoid')(x)  # make num nodes with variable\n",
        "  classification_model = keras.Model(inputs=encoder.input, outputs=output)\n",
        "\n",
        "  return classification_model"
      ],
      "execution_count": null,
      "outputs": []
    },
    {
      "cell_type": "code",
      "metadata": {
        "id": "msOp3fkPYkRh"
      },
      "source": [
        "model = define_model()\n",
        "#model = define_model_pretrained() # change\n",
        "model.load_weights(saved_weights_path+'saved-weights-scratch-class-coco-balanced-04-0.17.hdf5')  #change"
      ],
      "execution_count": null,
      "outputs": []
    },
    {
      "cell_type": "code",
      "metadata": {
        "id": "D-yOH0FhZWAG",
        "colab": {
          "base_uri": "https://localhost:8080/"
        },
        "outputId": "62d41437-52e3-423d-bd09-2ad71ba27762"
      },
      "source": [
        "model.compile(optimizer=tf.keras.optimizers.Adam(learning_rate=LEARNING_RATE_1), loss='binary_crossentropy', metrics=['accuracy'])  # change lr\n",
        "model.summary()"
      ],
      "execution_count": null,
      "outputs": [
        {
          "output_type": "stream",
          "name": "stdout",
          "text": [
            "Model: \"model\"\n",
            "_________________________________________________________________\n",
            "Layer (type)                 Output Shape              Param #   \n",
            "=================================================================\n",
            "input_1 (InputLayer)         [(None, 256, 256, 1)]     0         \n",
            "_________________________________________________________________\n",
            "conv2d (Conv2D)              (None, 128, 128, 64)      1088      \n",
            "_________________________________________________________________\n",
            "leaky_re_lu (LeakyReLU)      (None, 128, 128, 64)      0         \n",
            "_________________________________________________________________\n",
            "conv2d_1 (Conv2D)            (None, 64, 64, 128)       131200    \n",
            "_________________________________________________________________\n",
            "batch_normalization (BatchNo (None, 64, 64, 128)       512       \n",
            "_________________________________________________________________\n",
            "leaky_re_lu_1 (LeakyReLU)    (None, 64, 64, 128)       0         \n",
            "_________________________________________________________________\n",
            "conv2d_2 (Conv2D)            (None, 32, 32, 256)       524544    \n",
            "_________________________________________________________________\n",
            "batch_normalization_1 (Batch (None, 32, 32, 256)       1024      \n",
            "_________________________________________________________________\n",
            "leaky_re_lu_2 (LeakyReLU)    (None, 32, 32, 256)       0         \n",
            "_________________________________________________________________\n",
            "conv2d_3 (Conv2D)            (None, 16, 16, 512)       2097664   \n",
            "_________________________________________________________________\n",
            "batch_normalization_2 (Batch (None, 16, 16, 512)       2048      \n",
            "_________________________________________________________________\n",
            "leaky_re_lu_3 (LeakyReLU)    (None, 16, 16, 512)       0         \n",
            "_________________________________________________________________\n",
            "conv2d_4 (Conv2D)            (None, 8, 8, 512)         4194816   \n",
            "_________________________________________________________________\n",
            "batch_normalization_3 (Batch (None, 8, 8, 512)         2048      \n",
            "_________________________________________________________________\n",
            "leaky_re_lu_4 (LeakyReLU)    (None, 8, 8, 512)         0         \n",
            "_________________________________________________________________\n",
            "conv2d_5 (Conv2D)            (None, 4, 4, 512)         4194816   \n",
            "_________________________________________________________________\n",
            "batch_normalization_4 (Batch (None, 4, 4, 512)         2048      \n",
            "_________________________________________________________________\n",
            "leaky_re_lu_5 (LeakyReLU)    (None, 4, 4, 512)         0         \n",
            "_________________________________________________________________\n",
            "conv2d_6 (Conv2D)            (None, 2, 2, 512)         4194816   \n",
            "_________________________________________________________________\n",
            "batch_normalization_5 (Batch (None, 2, 2, 512)         2048      \n",
            "_________________________________________________________________\n",
            "leaky_re_lu_6 (LeakyReLU)    (None, 2, 2, 512)         0         \n",
            "_________________________________________________________________\n",
            "conv2d_7 (Conv2D)            (None, 1, 1, 512)         4194816   \n",
            "_________________________________________________________________\n",
            "activation (Activation)      (None, 1, 1, 512)         0         \n",
            "_________________________________________________________________\n",
            "flatten (Flatten)            (None, 512)               0         \n",
            "_________________________________________________________________\n",
            "dense (Dense)                (None, 4096)              2101248   \n",
            "_________________________________________________________________\n",
            "dropout (Dropout)            (None, 4096)              0         \n",
            "_________________________________________________________________\n",
            "dense_1 (Dense)              (None, 4096)              16781312  \n",
            "_________________________________________________________________\n",
            "dropout_1 (Dropout)          (None, 4096)              0         \n",
            "_________________________________________________________________\n",
            "dense_2 (Dense)              (None, 20)                81940     \n",
            "=================================================================\n",
            "Total params: 38,507,988\n",
            "Trainable params: 38,503,124\n",
            "Non-trainable params: 4,864\n",
            "_________________________________________________________________\n"
          ]
        }
      ]
    },
    {
      "cell_type": "code",
      "metadata": {
        "id": "rZNjGMTYbInF"
      },
      "source": [
        "#earlyStopping = EarlyStopping(monitor='val_loss', verbose=0, mode='min', patience = 4) # patience - Number of epochs with no improvement after which training will be stopped\n",
        "weights_save = ModelCheckpoint(saved_weights_path+'saved-weights-' + model_name + '-{epoch:02d}-{val_loss:.2f}.hdf5', verbose=1, save_weights_only=True, save_freq='epoch')\n",
        "\n",
        "history = model.fit(training_generator, \n",
        "validation_data=val_generator,\n",
        "use_multiprocessing=True,\n",
        "workers=6,\n",
        "epochs=EPOCHS,\n",
        "callbacks=[weights_save])"
      ],
      "execution_count": null,
      "outputs": []
    },
    {
      "cell_type": "code",
      "metadata": {
        "id": "wVs-u_ogzLXk"
      },
      "source": [
        "df = pd.DataFrame(history.history)\n",
        "print(history.history.keys())\n",
        "# summarize history for accuracy\n",
        "plt.plot(history.history['accuracy'])\n",
        "plt.plot(history.history['val_accuracy'])\n",
        "plt.title('model accuracy')\n",
        "plt.ylabel('accuracy')\n",
        "plt.xlabel('epoch')\n",
        "plt.legend(['train', 'test'], loc='upper left')\n",
        "plt.show()\n",
        "# summarize history for loss\n",
        "plt.plot(history.history['loss'])\n",
        "plt.plot(history.history['val_loss'])\n",
        "plt.title('model loss')\n",
        "plt.ylabel('loss')\n",
        "plt.xlabel('epoch')\n",
        "plt.legend(['train', 'test'], loc='upper left')\n",
        "plt.show()"
      ],
      "execution_count": null,
      "outputs": []
    },
    {
      "cell_type": "code",
      "metadata": {
        "id": "UkQEg6qwzSlz"
      },
      "source": [
        "#load in the test set\n",
        "labels_test = []\n",
        "images_test = []\n",
        "for testing_index in testing_indexes:\n",
        "  image_test, label_test = generate_from_xml(filenames[testing_index])\n",
        "  labels_test.append(label_test)\n",
        "  images_test.append(image_test)\n",
        "  print(testing_index)\n",
        "\n",
        "images_test = np.array(images_test)\n",
        "labels_test = np.array(labels_test)\n",
        "\n",
        "loss, acc = model.evaluate(x=images_test,  y=labels_test, verbose=2)\n",
        "print('Restored model, accuracy: {:5.2f}%'.format(100*acc))\n",
        "print('Restored model, loss', loss)"
      ],
      "execution_count": null,
      "outputs": []
    },
    {
      "cell_type": "code",
      "metadata": {
        "id": "ggCo_eMOBO00"
      },
      "source": [
        "y_pred = model.predict(images_test)"
      ],
      "execution_count": null,
      "outputs": []
    },
    {
      "cell_type": "code",
      "metadata": {
        "id": "MozA_YMHMxPY"
      },
      "source": [
        "# Save history\n",
        "with open(DIR + 'TrainHistory/class_coco_balanced_history', 'wb') as file_pi: # change name\n",
        "    pickle.dump(history.history, file_pi)"
      ],
      "execution_count": null,
      "outputs": []
    },
    {
      "cell_type": "code",
      "metadata": {
        "colab": {
          "base_uri": "https://localhost:8080/"
        },
        "id": "ITFPmtF6zdNH",
        "outputId": "6c42e889-3d3a-4497-e562-1d618924eccc"
      },
      "source": [
        "# Save  model\n",
        "model.save(saved_models_path + 'saved-model-' + model_name) "
      ],
      "execution_count": null,
      "outputs": [
        {
          "output_type": "stream",
          "name": "stdout",
          "text": [
            "INFO:tensorflow:Assets written to: /content/drive/My Drive/Self-supervised-VOC/SavedModels/saved-model-scratch-class-coco-balanced/assets\n"
          ]
        }
      ]
    },
    {
      "cell_type": "code",
      "metadata": {
        "id": "Mh8xmmqYHlsU"
      },
      "source": [
        "# Classification report\n",
        "labels =[\"aeroplane\", \"bicycle\", \"bird\", \"boat\", \"bottle\", \"bus\", \"car\",\n",
        "                \"cat\", \"chair\", \"cow\", \"diningtable\", \"dog\", \"horse\", \"motorbike\",\n",
        "                \"person\", \"pottedplant\", \"sheep\", \"sofa\", \"train\", \"tvmonitor\"]\n",
        "y_pred = (y_pred > 0.5) # threshold 0.5\n",
        "print(classification_report(labels_test, y_pred, target_names=labels))\n",
        "\n",
        "class_accuracies = []\n",
        "for class_ in np.unique(labels_test):\n",
        "    class_acc = np.mean(y_pred[labels_test == class_] == class_)\n",
        "    class_acuracies.append(class_acc)\n",
        "\n",
        "print(class_acuracies)"
      ],
      "execution_count": null,
      "outputs": []
    },
    {
      "cell_type": "code",
      "metadata": {
        "id": "O3_HqbFWEWNl"
      },
      "source": [
        "# Confusion matrix\n",
        "cm = multilabel_confusion_matrix(labels_test, y_pred)\n",
        "print(cm)\n",
        "\n",
        "disp = ConfusionMatrixDisplay(confusion_matrix=cm, display_labels=labels)\n",
        "\n",
        "#disp.plot(cmap=plt.cm.Blues)\n",
        "#plt.show()"
      ],
      "execution_count": null,
      "outputs": []
    },
    {
      "cell_type": "markdown",
      "metadata": {
        "id": "UJIVW48WqgXC"
      },
      "source": [
        "## Loss Graphs"
      ]
    },
    {
      "cell_type": "code",
      "metadata": {
        "colab": {
          "base_uri": "https://localhost:8080/",
          "height": 295
        },
        "id": "_ndKoiBQqipU",
        "outputId": "7c9b7280-f61a-4036-b208-6d01aac0914d"
      },
      "source": [
        "epochs = [1,2,3,4]\n",
        "train_loss_scratch = np.array([0.2122, 0.1962, 0.1881, 0.1808])\n",
        "train_loss_pre = np.array([0.1954, 0.1596, 0.1370, 0.0993])\n",
        "\n",
        "# Plotting both the curves simultaneously\n",
        "plt.plot(epochs, train_loss_scratch, color='g', label='From scratch')\n",
        "plt.plot(epochs, train_loss_pre, color='royalblue', label='From colorization init')\n",
        "  \n",
        "# Naming the x-axis, y-axis and the whole graph\n",
        "plt.xlabel(\"Epoch\")\n",
        "plt.ylabel(\"Loss\")\n",
        "plt.title(\"Training loss\")\n",
        "  \n",
        "# Adding legend, which helps us recognize the curve according to it's color\n",
        "plt.legend()\n",
        "  \n",
        "# To load the display window\n",
        "plt.show()"
      ],
      "execution_count": null,
      "outputs": [
        {
          "output_type": "display_data",
          "data": {
            "image/png": "[encoded data removed]",
            "text/plain": [
              "<Figure size 432x288 with 1 Axes>"
            ]
          },
          "metadata": {
            "needs_background": "light"
          }
        }
      ]
    }
  ]
}